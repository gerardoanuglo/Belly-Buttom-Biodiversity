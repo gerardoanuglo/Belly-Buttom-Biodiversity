{
 "cells": [
  {
   "cell_type": "code",
   "execution_count": 1,
   "metadata": {},
   "outputs": [],
   "source": [
    "import pandas as pd\n",
    "import json\n",
    "import requests\n",
    "from pprint import pprint\n",
    "import numpy as np"
   ]
  },
  {
   "attachments": {},
   "cell_type": "markdown",
   "metadata": {},
   "source": [
    "Info needed for average participant\n",
    "age, bbtype, wfreq, top 10 baceteria found on average"
   ]
  },
  {
   "cell_type": "code",
   "execution_count": 2,
   "metadata": {},
   "outputs": [],
   "source": [
    "url = \"https://2u-data-curriculum-team.s3.amazonaws.com/dataviz-classroom/v1.1/14-Interactive-Web-Visualizations/02-Homework/samples.json\""
   ]
  },
  {
   "cell_type": "code",
   "execution_count": 3,
   "metadata": {},
   "outputs": [
    {
     "data": {
      "text/plain": [
       "200"
      ]
     },
     "execution_count": 3,
     "metadata": {},
     "output_type": "execute_result"
    }
   ],
   "source": [
    "#make request and store response\n",
    "response = requests.get(url)\n",
    "\n",
    "#verify status code\n",
    "response.status_code"
   ]
  },
  {
   "cell_type": "code",
   "execution_count": 4,
   "metadata": {},
   "outputs": [],
   "source": [
    "#jsonify response\n",
    "response_json = response.json()"
   ]
  },
  {
   "cell_type": "code",
   "execution_count": 5,
   "metadata": {},
   "outputs": [],
   "source": [
    "ids = response_json['names']"
   ]
  },
  {
   "cell_type": "code",
   "execution_count": null,
   "metadata": {},
   "outputs": [],
   "source": [
    "#response_json[\"metadata\"][0]\n",
    "#response_json[\"samples\"][0][\"sample_values\"][:10]"
   ]
  },
  {
   "cell_type": "code",
   "execution_count": 6,
   "metadata": {},
   "outputs": [],
   "source": [
    "wfreq_list = []\n",
    "bbtype_list = []\n",
    "age_list = []\n",
    "\n",
    "for i in range(0, len(ids)):\n",
    "    temp_wfreq = response_json[\"metadata\"][i][\"wfreq\"]\n",
    "    temp_bbtype = response_json[\"metadata\"][i][\"bbtype\"]\n",
    "    temp_age = response_json[\"metadata\"][i][\"age\"]\n",
    "\n",
    "    wfreq_list.append(temp_wfreq)\n",
    "    bbtype_list.append(temp_bbtype)\n",
    "    age_list.append(temp_age)\n",
    "\n"
   ]
  },
  {
   "cell_type": "code",
   "execution_count": 14,
   "metadata": {},
   "outputs": [
    {
     "name": "stdout",
     "output_type": "stream",
     "text": [
      "The average wash frequency of belly button per week: 3\n"
     ]
    }
   ],
   "source": [
    "#remove \"None\" values from lists\n",
    "for i in wfreq_list:\n",
    "    if i == None:\n",
    "        wfreq_list.remove(i)\n",
    "for j in bbtype_list:\n",
    "    if j == None:\n",
    "        bbtype_list.remove(j)\n",
    "for k in age_list:\n",
    "    if k == None:\n",
    "        age_list.remove(k)\n",
    "\n",
    "#convert float datatype values to integers\n",
    "final_wash = list(map(int, wfreq_list))\n",
    "final_age = list(map(int, age_list))\n",
    "\n",
    "#create function to get the average from a list\n",
    "def get_average(data):\n",
    "    return round(sum(data)/len(data))\n",
    "\n",
    "print(f\"The average wash frequency of belly button per week: {get_average(final_wash)}\")"
   ]
  },
  {
   "cell_type": "code",
   "execution_count": 15,
   "metadata": {},
   "outputs": [
    {
     "name": "stdout",
     "output_type": "stream",
     "text": [
      "The average age among participants: 35\n"
     ]
    }
   ],
   "source": [
    "print(f\"The average age among participants: {get_average(final_age)}\")"
   ]
  },
  {
   "cell_type": "code",
   "execution_count": 21,
   "metadata": {},
   "outputs": [],
   "source": [
    "bbtype_list = [x.upper() for x in bbtype_list]\n",
    "bbtype_series = pd.Series(bbtype_list)\n"
   ]
  },
  {
   "cell_type": "code",
   "execution_count": 27,
   "metadata": {},
   "outputs": [
    {
     "name": "stdout",
     "output_type": "stream",
     "text": [
      "The majority of participants have a Innie Belly Button\n"
     ]
    },
    {
     "data": {
      "text/plain": [
       "I          133\n",
       "O            6\n",
       "BOTH         2\n",
       "UNKNOWN      1\n",
       "dtype: int64"
      ]
     },
     "execution_count": 27,
     "metadata": {},
     "output_type": "execute_result"
    }
   ],
   "source": [
    "print(f\"The majority of participants have a Innie Belly Button\")\n",
    "bbtype_series.value_counts()"
   ]
  },
  {
   "cell_type": "code",
   "execution_count": 30,
   "metadata": {},
   "outputs": [],
   "source": [
    "otu_list = []\n",
    "labels_list=[]\n",
    "\n",
    "#for each paticipant I want the top ten ids found in their belly button\n",
    "for i in range(0, len(ids)):\n",
    "    temp_otus = response_json[\"samples\"][i][\"otu_ids\"][:10]\n",
    "    #response_json[\"samples\"][i][\"sample_values\"]\n",
    "    temp_labels = response_json[\"samples\"][i][\"otu_labels\"][:10]\n",
    "\n",
    "    otu_list.append(temp_otus)\n",
    "    labels_list.append(temp_labels)"
   ]
  },
  {
   "cell_type": "code",
   "execution_count": 31,
   "metadata": {},
   "outputs": [],
   "source": [
    "df = pd.DataFrame()\n",
    "df[\"id_num\"] = list(np.concatenate(otu_list))\n",
    "df[\"label\"] = list(np.concatenate(labels_list))"
   ]
  },
  {
   "cell_type": "code",
   "execution_count": 67,
   "metadata": {},
   "outputs": [
    {
     "data": {
      "text/html": [
       "<div>\n",
       "<style scoped>\n",
       "    .dataframe tbody tr th:only-of-type {\n",
       "        vertical-align: middle;\n",
       "    }\n",
       "\n",
       "    .dataframe tbody tr th {\n",
       "        vertical-align: top;\n",
       "    }\n",
       "\n",
       "    .dataframe thead th {\n",
       "        text-align: right;\n",
       "    }\n",
       "</style>\n",
       "<table border=\"1\" class=\"dataframe\">\n",
       "  <thead>\n",
       "    <tr style=\"text-align: right;\">\n",
       "      <th></th>\n",
       "      <th></th>\n",
       "      <th>0</th>\n",
       "    </tr>\n",
       "    <tr>\n",
       "      <th>id_num</th>\n",
       "      <th>label</th>\n",
       "      <th></th>\n",
       "    </tr>\n",
       "  </thead>\n",
       "  <tbody>\n",
       "    <tr>\n",
       "      <th>1795.0</th>\n",
       "      <th>Bacteria;Firmicutes;Bacilli;Bacillales;Staphylococcaceae;Staphylococcus</th>\n",
       "      <td>101</td>\n",
       "    </tr>\n",
       "    <tr>\n",
       "      <th>944.0</th>\n",
       "      <th>Bacteria;Actinobacteria;Actinobacteria;Actinomycetales;Corynebacteriaceae;Corynebacterium</th>\n",
       "      <td>88</td>\n",
       "    </tr>\n",
       "    <tr>\n",
       "      <th>922.0</th>\n",
       "      <th>Bacteria;Actinobacteria;Actinobacteria;Actinomycetales;Corynebacteriaceae;Corynebacterium</th>\n",
       "      <td>75</td>\n",
       "    </tr>\n",
       "    <tr>\n",
       "      <th>2419.0</th>\n",
       "      <th>Bacteria;Firmicutes;Clostridia;Clostridiales;IncertaeSedisXI;Anaerococcus</th>\n",
       "      <td>67</td>\n",
       "    </tr>\n",
       "    <tr>\n",
       "      <th>2859.0</th>\n",
       "      <th>Bacteria;Firmicutes;Clostridia;Clostridiales;IncertaeSedisXI;Peptoniphilus</th>\n",
       "      <td>61</td>\n",
       "    </tr>\n",
       "    <tr>\n",
       "      <th>1167.0</th>\n",
       "      <th>Bacteria;Bacteroidetes;Bacteroidia;Bacteroidales;Porphyromonadaceae;Porphyromonas</th>\n",
       "      <td>51</td>\n",
       "    </tr>\n",
       "    <tr>\n",
       "      <th>2539.0</th>\n",
       "      <th>Bacteria;Firmicutes;Clostridia;Clostridiales;IncertaeSedisXI;Anaerococcus</th>\n",
       "      <td>48</td>\n",
       "    </tr>\n",
       "    <tr>\n",
       "      <th>2722.0</th>\n",
       "      <th>Bacteria;Firmicutes;Clostridia;Clostridiales;IncertaeSedisXI;Finegoldia</th>\n",
       "      <td>47</td>\n",
       "    </tr>\n",
       "    <tr>\n",
       "      <th>943.0</th>\n",
       "      <th>Bacteria;Actinobacteria;Actinobacteria;Actinomycetales;Corynebacteriaceae;Corynebacterium</th>\n",
       "      <td>36</td>\n",
       "    </tr>\n",
       "    <tr>\n",
       "      <th>728.0</th>\n",
       "      <th>Bacteria;Actinobacteria;Actinobacteria;Actinomycetales</th>\n",
       "      <td>33</td>\n",
       "    </tr>\n",
       "  </tbody>\n",
       "</table>\n",
       "</div>"
      ],
      "text/plain": [
       "                                                             0\n",
       "id_num label                                                  \n",
       "1795.0 Bacteria;Firmicutes;Bacilli;Bacillales;Staphylo...  101\n",
       "944.0  Bacteria;Actinobacteria;Actinobacteria;Actinomy...   88\n",
       "922.0  Bacteria;Actinobacteria;Actinobacteria;Actinomy...   75\n",
       "2419.0 Bacteria;Firmicutes;Clostridia;Clostridiales;In...   67\n",
       "2859.0 Bacteria;Firmicutes;Clostridia;Clostridiales;In...   61\n",
       "1167.0 Bacteria;Bacteroidetes;Bacteroidia;Bacteroidale...   51\n",
       "2539.0 Bacteria;Firmicutes;Clostridia;Clostridiales;In...   48\n",
       "2722.0 Bacteria;Firmicutes;Clostridia;Clostridiales;In...   47\n",
       "943.0  Bacteria;Actinobacteria;Actinobacteria;Actinomy...   36\n",
       "728.0  Bacteria;Actinobacteria;Actinobacteria;Actinomy...   33"
      ]
     },
     "execution_count": 67,
     "metadata": {},
     "output_type": "execute_result"
    }
   ],
   "source": [
    "df2 = pd.DataFrame(df.value_counts()[:10])\n",
    "df2"
   ]
  },
  {
   "cell_type": "markdown",
   "metadata": {},
   "source": [
    "Data For Average Participant"
   ]
  },
  {
   "cell_type": "code",
   "execution_count": null,
   "metadata": {},
   "outputs": [],
   "source": [
    "ids = [1795, 944, 922, 2419, 2859, 1167, 2539, 2722, 943, 728]\n",
    "labels = [\"Bacteria;Firmicutes;Bacilli;Bacillales;Staphylococcaceae;Staphylococcus\", \"Bacteria;Actinobacteria;Actinobacteria;Actinomycetales;Corynebacteriaceae;Corynebacterium\", \n",
    "\"Bacteria;Actinobacteria;Actinobacteria;Actinomycetales;Corynebacteriaceae;Corynebacterium\", \"Bacteria;Firmicutes;Clostridia;Clostridiales;IncertaeSedisXI;Anaerococcus\", \n",
    "\"Bacteria;Firmicutes;Clostridia;Clostridiales;IncertaeSedisXI;Peptoniphilus\", \"Bacteria;Bacteroidetes;Bacteroidia;Bacteroidales;Porphyromonadaceae;Porphyromonas\", \n",
    "\"Bacteria;Firmicutes;Clostridia;Clostridiales;IncertaeSedisXI;Anaerococcus\",\"Bacteria;Firmicutes;Clostridia;Clostridiales;IncertaeSedisXI;Finegoldia\", \n",
    "\"Bacteria;Actinobacteria;Actinobacteria;Actinomycetales;Corynebacteriaceae;Corynebacterium\", \"Bacteria;Actinobacteria;Actinobacteria;Actinomycetales\"]\n",
    "count = [101, 88, 75, 67, 61, 51, 48, 47, 36, 33]\n",
    "\n",
    "wfreq = 3 \n",
    "age = 35\n",
    "bbtype = I"
   ]
  }
 ],
 "metadata": {
  "kernelspec": {
   "display_name": "Python 3",
   "language": "python",
   "name": "python3"
  },
  "language_info": {
   "codemirror_mode": {
    "name": "ipython",
    "version": 3
   },
   "file_extension": ".py",
   "mimetype": "text/x-python",
   "name": "python",
   "nbconvert_exporter": "python",
   "pygments_lexer": "ipython3",
   "version": "3.10.9"
  },
  "orig_nbformat": 4,
  "vscode": {
   "interpreter": {
    "hash": "0dcbfcf88aaac8d0bf3f45466780ee6b282dc27455d6f27ed1fa8c4717745ce3"
   }
  }
 },
 "nbformat": 4,
 "nbformat_minor": 2
}
